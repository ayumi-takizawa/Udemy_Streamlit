{
 "cells": [
  {
   "cell_type": "code",
   "execution_count": 6,
   "id": "f9c21723-d519-4cb5-b468-1d360cec9c23",
   "metadata": {},
   "outputs": [],
   "source": [
    "\"\"\"Synthesizes speech from the input string of text or ssml.\n",
    "Make sure to be working in a virtual environment.\n",
    "\n",
    "Note: ssml must be well-formed according to:\n",
    "    https://www.w3.org/TR/speech-synthesis/\n",
    "\"\"\"\n",
    "from google.cloud import texttospeech\n",
    "\n",
    "# Instantiates a client\n",
    "client = texttospeech.TextToSpeechClient()\n",
    "\n",
    "# Set the text input to be synthesized\n",
    "synthesis_input = texttospeech.SynthesisInput(text=\"こんにちは、滝澤です。\")\n",
    "\n",
    "# Build the voice request, select the language code (\"en-US\") and the ssml\n",
    "# voice gender (\"neutral\")\n",
    "# 英語：US / 日本語：ja-JP\n",
    "# NEUTORAL / 男性：MALE / 女性：FEMALE\n",
    "voice = texttospeech.VoiceSelectionParams(\n",
    "    language_code=\"ja-JP\",\n",
    "    name=\"ja-JP-Neural2-C\",\n",
    "    ssml_gender=texttospeech.SsmlVoiceGender.MALE\n",
    ")\n",
    "\n",
    "# Select the type of audio file you want returned\n",
    "audio_config = texttospeech.AudioConfig(\n",
    "    audio_encoding=texttospeech.AudioEncoding.MP3\n",
    ")\n",
    "\n",
    "# Perform the text-to-speech request on the text input with the selected\n",
    "# voice parameters and audio file type\n",
    "response = client.synthesize_speech(\n",
    "    input=synthesis_input, voice=voice, audio_config=audio_config\n",
    ")\n",
    "\n",
    "# The response's audio_content is binary.\n",
    "# filename = \"output.mp3\"\n",
    "# with open(filename, \"wb\") as out:\n",
    "#     # Write the response to the output file.\n",
    "#     out.write(response.audio_content)\n",
    "#     print(f'音声データは{filename}ファイルに書き出しました')\n"
   ]
  },
  {
   "cell_type": "code",
   "execution_count": 7,
   "id": "174212c9-66a3-44c8-85e4-1b71a598f61e",
   "metadata": {},
   "outputs": [
    {
     "data": {
      "text/html": [
       "\n",
       "                <audio  controls=\"controls\" >\n",
       "                    <source src=\"data:audio/wav;base64,//NExAAAAANIAAAAAExBTUUzLjEwMFVVVVVVVVVVVVVVVVVVVVVVVVVVVVVVVVVVVVVVVVVVVVVVVVVVVVVVVVVVVVVVVVVVVVVVVVVVVVVVVVVVVVVVVVVVTEFNRTMu//NExFMAAANIAAAAADEwMFVVVVVVVVVVVVVVVVVVVVVVVVVVVVVVVVVVVVVVVVVVVVVVVVVVVVVVVVVVVVVVVVVVVVVVVVVVVVVVVVVVVVVVVVVVVVVVVVVVTEFNRTMu//NExKYAAANIAAAAADEwMFVVVVVVVVVVVVVVVVVVVVVVVVVVVVVVVVVVVVVVVVVVVVVVVVVVVVVVVVVVVVVVVVVVVVVVVVVVVVVVVVVVVVVVVVVVVVVVVVVVTEFNRTMu//NExKwAAANIAAAAADEwMFVVVVVVVVVVVVVVVVVVVVVVVVVVVVVVVVVVVVVVVVVVVVVVVVVVVVVVVVVVVVVVVVVVVVVVVVVVVVVVVVVVVVVVVVVVVVVVVVVVTEFNRTMu//NExKwAAANIAAAAADEwMFVVVVVVVVVVVVVVVVVVVVVVVVVVVVVVVVVVVVVVVVVVVVVVVVVVVVVVVVVVVVVVVVVVVVVVVVVVVVVVVVVVVVVVVVVVVVVVVVVVTEFNRTMu//NExKwAAANIAAAAADEwMFVVVVVVVVVVVVVVVVVVVVVVVVVVVVVVVVVVVVVVVVVVVVVVVVVVVVVVVVVVVVVVVVVVVVVVVVVVVVVVVVVVVVVVVVVVVVVVVVVVTF0ShiP5//NExKwAAANIAAAAAGCeSC+cnyJGtOiaPwsDwRzBPBC0teRuP9/e5e+V/v76Uvn8UccYWjo8qmRkymMIFo8sUxxnTzJ3n2KwwgWEWCpszSAwcFhYNmAc/NG+gzrNmXU6//NExKwAAANIAAAAAITGAcP+sOA+PClDSggKBxjAUnQ0y4/EbsSVd8XjccfyHH3gGHnkh+GKG/XtI5IEAUEhAGEDUSfBWsm+JJdIIyTFezR1dJvvWyByjC78RoEDvckG//NExKwAAANIAAAAAGQnSbTC7ewjKFQ5AgI29UYUJMrYJo5zrINrtqIEEIWuTzRo5o5IG9hfXb9wjO0b1Iz8LnOkyfYXNIUO+TY6jHvYddIkYUQZUFGLn9QIGABfzaAs//NExP8YOZV8AGMGlDYqa0yQu6lrFUaosvysF6DFFVciCagDVIB0sGxhJLdpuK0EBxnCBXskybs5GkYOoU0T//2eKXLhNlMmCm2voO3cc0ixUJYd4uQXX9t2/GVFLk2T//NExPEmgxngAVtIAQZmJwzLur/pf35ePFUny4kXzAnjU3P/b//t/5oXzMoLJ02NEDc0OHVVm8KIToyfrTijC65+MOQt/FwZJaEWAoI/ffOn6X/s1X/9///9lM6aH/qb//NExKof2yooAZmgAPsmyv/////91///st6aaf+yZqZIol5RsPiKLZBis1MsLjqIsOmaNGfNKHLgYQKIlyqbGLWziDSlElO5ff/6r3//+n6oz/Vl2Xu+n//////Z57kR//NExH0Q2xqgAY9oAQIk5w4fAiIqXSw+ovNalzxkDgEwgs7YkU2eayyqNWLPUsAeg3gsh4D3QUfda26+r//V61t//+lW0ofsm9Hb9f//1vt/3+i1moZ1LR4Z4FEigpq+//NExIwR+oqgAc8QACWGklfxcG2j9KwMxJDJ8aKJ4jEGuDG9Jl2VVDJh4kQgQNLHgkYsIgRFlhETWC/tmrlz3R3F28j/wP6fcCm8Z+Wf7mnyp3elO5T0g7yD96E4rF6h//NExJcRuo6gAHtEuBi8iwrPKiOcwjlxwzQ+jsppx1TLv/7fNO6smj0d+jnHPZfqqHPvR+ab/1Wu9zVdjSU9SajAhBj7WkMIxEDmsE5rInMgFiPBbTKQ0VCjHToFDBZ0//NExKMgaxaEANPOueC8xQAUkaOBzimk0XwSSXyre0lur/zbvQ67dLTRiX0dmbwyqYWLF25ZM4eNqxwdHcpg3LjJFEU5Kx9HWsWuv+pWGgrZJ5HKMZXaykREUbXXd/////NExHQe6WKEAN5YlPK1ev/8kcCaxqL7NhUNDiCxjXOVA6wWBCIjESA9Rwq8npBmVvJiAGQW6jfqpRt7i5MDwkq8rNp2Z3op4guBYIiQI2Hy09i7ft/2cqSKaqNUMSgR//NExEsTCT6kAMvMcX1VT4rwwFQR/0cseMACTKBFfNHAgEGolYB/HE+gJ5mo+XJo4VNYCjlrBJJola2UpqZG2GWabRNqowkM0GgoshZOMMBU2qos9L0OJ1pH3OAiwEmF//NExFESaQqgANPScEYNAMDTgVAxIz1SlgF3qgZBiP7GRIRzNVCpqLRKJ/dZdWe2LstCxU5PS3okiKHQ+JD4plRWqq4/NShJEDgNr/z9hiqJW6yWoju0K6CJigKLO8nv//NExFoSURKYANpYcUC53LwcxUZz0hAM8eTSchRxTLS/5scv/rJYppdBIsViLxLf2Yi39lz00PBs4o18qj////0uu/66XBTO6X+NuuAxiX7B6JhKUNrTGIhjVKYgSobN//NExGMR4RqYANrYcIkXuLIu6Iz3dSPt+0znzpfeVCdZzgyEddyIeRBveqhxHETUHZX1v/v///7V1YzMLzLnm+1BqRAGAj5JrmOF7O5H70P3b1lF2KYYagrDmjIRbrWP//NExG4RyQ6QANtWcKbaio/VKL6ZJNcZyAzFwPhbrGI5UB77KN/U7////5f/+lVqo5EtyMifFimloZIGkRnAhWPmFBQIAG7VnHmVG8whgRBOIciEIcBwNuxWokqaiB41//NExHkR0P6QAVtoAAK9jR4RqsiwSAYOF+4KCASCPFB4SHAKhEBv//u90+YgoWgcMFb//8gcLnuidnjhb2Zl///7/l7T+kdV4+PjJ/n///9354RHv3f3HDDihzIKur12//NExIQgawagAZtAARlVUwqRqp/pfsRtxudxmZJl3/ov/99/6///30HtDgJEVQUBm7iYb2UDxLaeI/YZbKEbKKB2aVE5yhd9////3U1vUyr/6bHNt0MaImax6jwFSGp8//NExFURwYawAdk4AO14rxrp9e//5f2voHYe0MFQDRwOBs0ECGDU4thWuEb7Q5tBp1vZoVUIqP///7X2x7j4TEKX/0WH5A8YhiM8QDLOWnsCQkNYxR41eDkAgFpjG66G//NExGERKX6wAMhQlDf/39vM/1RJI4BLacpyOElm05GfON/5mZxv+aj3NIhIKVf/u5L/+JVjIdBqIhx4tZYHVRIjGjILR6odGkPOzFEzKC0jG0geHb1aXfDUuypu7/ta//NExG8TkYqUAMiMlJrXYarGaqpeqlNVWAR8FAVx14ixbPWhJ7AEWaVYQlkZaBSpGj6v/5JbqnsdqPbaVT6lQ1sB1T7/u4Iz+/jMvJRaYW0jDb48DM3L4mJ0TQeH3m60//NExHMT0OJMAVoYAMbx6DgEzGb83MGHoaRhh9J48xyj//NC4aJpxhwuZ4cY9RoHoMj/kvemXETdAdxKD0CKEERgLeJYSX/5catzfUhQQJQdhKjegS6RTJhBNf//Qat0//NExHYh+yp8AY9oAN0K3bysl0hkGRPJJE0NU3HAWAQTeWSjO6en08yv3pvTbzvzOTPzkzM0p2bn5vZlNnvmWKXf+/0WOWm8nccN0ijm1jhnSPzCA9M0SQsRlNUWEzBk//NExEEgKw6gAcNgASJrgrD9kdyuSHfMDFHrxg0cOzWBafzBRxu1f2z/fS92HbNIn9+7HScHETl5xfa8azpoYZC6+s+jiyGrlVbstM07AbL//////6EU/++rsodyp/5f//NExBMRGprIAAiGuMy+BEBYonFgmK1z8IRCh0DmFBN0YY7TPKEZdvIXZKXtS+bflP470aLOPEy1NSSNbqFK38kYDIZskgFgnj6j//Xn5O36E0IYgcDYQLAxzCAAhggA//NExCESWWbEAHiGlKwcOKSu5UiNIRkEHChXHEkKC4owGgqkibCQMjXCLr6/q/f3UcOkUf1Vx/BJ4mT24MYZzKpfgEuR7/Y7hru0JhhpdFiyt16NxYhk510nAZe9hAEZ//NExCoQ+Ua4AMLYceQxceu0LamrLr0wTbGG7XXpI7na78JoGs/6/KqXXRJtSkOk3kcgAYRvKPnHyx8sDhH5UA46+EhjQphMOtOLha/EI+mja3tnGoFyZGIxEJkmZSns//NExDkSEU60AMMSlX3t/x6+stSLpJzpJlRaJerf5iAdLqUCTZDJBAI0H1bVTW6v31JWaHuiFsqkTQSqCK+DfYXjAzYxTPvv3vhoykyYllg5RMLZk6xod73Sz2RECCZ1//NExEMSCUq8AMPMlRhBsOLtVf+uua/uNQL2UQ9Go8yQIM+Ug8FYaB+tDAqEOYlIX5RRj/PAoicG+9iTzPK4k1vd8PO4U5qw5x6JZhi8u/83HZ7Tw/UhdpdbySD9Ktep//NExE0SiV7IAMPMlROpDRm6YjYKBHbGAEdWD/FrmhodFljK21FFPKWLexztLG++oHpS27tttvubJgQ4BkiylU2U2M7S7TRJSOJmNZlF0268gBLpBe0x01A/uKw9auBk//NExFURMWbMAHvMlS9bPlU0Yc5Pxys8VUdlDqcn5q6gMuoEtfrxMxctiTESRREBG6jjfI1/ORMoFpJlLTaqMlz3D/kalOHAu9DescFrA5ULgeu3JEWywM0JxzDYnK6c//NExGMRgXrIAFvMlS5NJcBcUpeLqNi+K63+1XmZVcokmQBRjmq3y05rzWvU45uaWj2S6LVXVTaUgA2i9a+G5RSIjUgGA0KQRFLQhEqGgtBMl5UlJIETUmAGHZ7Py09k//NExHAROXbAAGPMldrfb5ma5ay57Fq1at5KTTNsxQYb52V9Kg0oQ512cu1duRqNVIal0lkSZYNKACEysKCx+KrK2kJkdwXYEmDml08kkbaTa2rRbSfooqSSLxstGYuI//NExH4QiRKgAHpYcYDB3UDQdOnQa//qfiKuNd044yWAgUmHwMYOCKWjO2cuSCQaNJLNLimkR0QAUyiXSmuzlb0UaIhkw2ZdzAd4aQHREd5Z/skes6/7fLPKhM7/1D6v//NExI4SMSZkAMJacPln6004MEIhu8uF7YPe6/FR7B1ls1I8SwNRtKlIuqbSpDGByiGcLKIZ6KO3oq7ejvb0d7ejv3o79rd+zn6//173697te92vf+mMGXB3EnaWRV6p//NExJgSKKIAAOJSTFJhP+sM06AV2wlwgPLwlJxdEVESic2JKk5JrhkfQmLp0Y0OlTJjEdH2LngoCQEBAwIUFAUAhVATCgMAhQUBQKJgEYUBIMsAjCiYGZhRqsDBI0Fh//NExKIRMIHYANpMSSU0FhJSQqElJDArEkNCorA0GisHAsVEcCwURUVCyKioWTYoKxbNCooGoTByKhNFAdjgOY2HjpwuojQNzzYsoIGCDBQwMEDCBwgLEjUFgkLCwuKi//NExLAhOYXEAMMGlazioqKCwsLC3rFRUVFRb6hYWFRX+LCwtUxBTUUzLjEwMFVVVVVVVVVVVVVVVVVVVVVVVVVVVVVVVVVVVVVVVVVVVVVVVVVVVVVVVVVVaYRlCoqE//NExH4QqI0MAGJGTKPCw6JhKEg4EwYBsGBYXHDZIjUXqUZMvc2w29zbE4XKMZRFDDiBYgY0dLFZlYSOMLECzI0eWKrKYw4gWIWDKrhKyyy6rP+qqqqp/+qssssf/6WV//NExI4AAANIAAAAAFVVRH/6qyyyy///qqqqqjnRk2aEEpQSC4Q/edNOACuaUDAwMg5hAAnfcDFuD6wcGg+8PqLji7yjniB5TDPB9x8EAG8g0gT1ygYyAfh+sPxPB9An//NExKwAAANIAAAAAOoIvW/DxPlDhOlZ8QBiUBAz+pIxzOMyaBQwcCIqgGXjoXwcGxGIm/UriF2eoaXcbymblPnZud2CkBknnc42ixBVJE+tpTo84+MrKmeWlly0tdQn//NExP8ZyWUAAEpGlaeYQacTKl8s4pHBBm4dMF68vf95Soyu5UO+p0pFvZ0rTXk7ZaTQ0K2GRmq2duFftaHvNzYwm8SVuHZ8opLaZiLfg1U9AB3COy8pSFUow7Z4jgZw//NExOoVAH30ANjGSBf3/Xm9/1j7ASIDR/VgZmFiQA+AHp/4YQAOwA4BmRS+/24pcOjC+4BZisCcP/8YQuAvjHCdQsrE7/X/+OeOMiY5YyYuM4aCyP///xzB2BhQVuWy//NExOkhSu34AV0wAWyuXCiOUIABxn////+Q4PUEECGjjEEzZhxkMHYTRIjjNY2pBYDjERbMUXfLu5WIk6lO9OpgCcB+IMEsEYPYeAMiYdZUiCWTieZEAqUEGJSHaNBu//NExLYgwyowAZqQAMPkK+ToFCaO+ziDVz69dyO4+YnjLG87ybw5Vzkqq3TL5g504583bH22I2z9RXH7IqZiop88y793/Xy+tkR/3EtPses0ZOa7LT1GhS9rcZW8+b+W//NExIYfYoagAZhYACbm6f4vag503SlzR3jl7SFoAkRZFYZXDDDwRbChZcRcydCvqtBErgm+AvKoHsl1S3rpr8WHltb2BkaZ2VqmYUOV0RnNFiwzvKVhK1RwIsTMtqW1//NExFsgqYqQAdh4AfNqxXTG4KrNo+IvcI0isuWSMUGeKbPy1RFPkq1/nf4p/Pd7N/d+3tJmLYAOBGE8fDQ8VnhwZcXjzOH4ja04EIjNaafGYrI6eAXajVVwm2gNpzYH//NExCsbmb6YAH4YldG6NcddzcIXI3kqQIstE5EmYjTupiWcEo7EcEiea1ohVWn0a2Fm7PW2szFW1v123/mzOzMzn9N5j6NJ7lc63m/17tS1ijVAolYkr69LNX7e7BgT//NExA8U+SacAMPYcGi3IcaSXYD4Mq0ZuOrZ/LTWywXtXvMuQXdjMTkAUoF0ql4uoRdUPlmM6u1RdVcnMDx9yGD6KqsjTJ1JViSITzTPrub/1kVDHoJU2yCZAEzpTaDY//NExA4WKdJkAMMQlG12w4xKCYcD4kkI1/Lrc/LVp/NWtvTO1x6uMvNeodCNAdB8qiowPhY8FohCQXMOJQ4mmbWG+fmtV+e4aV2i/5WoyjpFaKOlh//rXTc0PMIiIyKA//NExAgRMLokAVwYAMWHS84FiU9SWPzlPLf91Uu87jh+/6sarr5nSmGKarJhUy0XsXkKkkL6tW+fMa8i9LV/QRuG2r+Y5tlGAaUhrHLByv/Q+BX78hif0Y8L4WQbPPQw//NExBYVmdaMAYtQAMAqAOBZf6uejDQYC2Phf+SK55jC8ejYBgG8j/sftgoAGCEAvBbG4hf/mXfisaPhNJhUWd//ECAwq3//ygYc9oIKOUF4yDxh0fMujqbR/6PMpWyl//NExBIRUaaoAccQAP8zMj6G6+rbFKy0EEFAh9AQYCOAqQgIxAoOGdDszDjiRMPhcaHmOYWQ4n///uq8s6KDY+qNUnoBcVqsCFiXZ21mmp///f5///6F0/IxhbhzfsKY//NExB8P6WKsAHhGlDNSdHzdKFcRMiRI8JqEpgmE2Ja9DlLT//+3R8XFUkDQvb3NGCshujo4I7m6OfPz7uuXW+fqffP/52ntvAMdAMPQ1QmM5IOPojdKV/paa+jd699P//NExDIR8vKwAMDEuS7G70//////wTb7q92Il2w45pXF8GG9jTg60H4Jgw7yYca/vDL+Zfql81NHEAfYqEc3UyK4Jf//9v+///+mrf9E/6+v6TK3cgp9zDI6VRXJHnHl//NExD0SWxawAMBOuSYhYaK41QcCAWMxAqp7CGS5K9MGOt+fWaa+cYFmQsjwYLZZtHtM5V9dl8ED9/3+23///pp3tt//7WZk1RtjDHNZR1VYcMMdyp1XVXNkxSNhwkFE//NExEYSkxqsAHhOvRyw4cKqx7SjjR4/cWigJba0cCgEpdOe3L+59icP3/xz/K7L+7qK8UAuC8YKhxXkClaR8pP6auYwLvKHFn1HOGIYdf//7v/8Q/28KWKBoUq5+iUL//NExE4SYQa4AMYQcLm9MLeC9YboJRXVGm0HYrbJw4GZ8wFsWt2g2spDoUVkWgSDKLpBDZvuN8I66L+66A5XFiSAFAm3JpTyfbs0JGwbEMRFVc/IIdG0hhL1TuYTrV9p//NExFcSCYbAAMPGlWBVoGzkNsngXOVrHdWtDD4QfJHUaHLaziwvsPG9xxiDX6tjGt6+cW+bb9KWpFjXajaGtaxGhnNBVUyvFf1NiJa37HS+E/bWADGyybJKjSnZ0wVq//NExGESURbEAH4ecVKX0BBmzymCCZz10gjMldIsQ7BaiHI3NffwvzX3whtZArCNvJ4nzulR+ULnVbVWJADivqW0Dr6qkLhK9inECSuMgsCFFanHCFzZRYEACM8rur3p//NExGoQ0Qa0AMYQcfKo9m/m7P/h/63/6n/N/zeZeNJHuBbzJz6j4QpjCSTk0fPededxFjQdk0dY1vIYEr63MBSTFvSPDYztwYIkFnAZcpp2C+Cbk/NrDxfnzvN54/vv//NExHkSYV6sAMYMlf4Y6Z1ZBB5wgLIAgdKqZ1aRWo6CAWVUFY5+lb35mIdvTPUgMaiVUCW03C8NGcBRGa5NR/rWRonhNcOMhr5WgIg89G4pGR4lL3hz/cvq2OxjYRxg//NExIISUWa4AMYKlXVjXZSZ2x2hHQOjZx521h7h6r027ZhB2JqVqISx6FSyBu4XE0KelqgUttvo21vJyZbiiYsV4/05HIJsoToOtU7ms0FUm5ed2FSFDimLv//NyGkt//NExIsSWW64AMPKlUqVSHUwjrTaAUMB2E2kFDFkvMdFQ0WFzIouNrk4w2AjQoUMJgwiESVSDzX2R0oZeBsCIeMqIKkAFykgbCEoagAXIDKwh5OifxhIj6C1I8hmw1aT//NExJQRGK68AVh4AaxDSIszGC1qWiP4uEMhDLGxgYmqmaks0Ku7qetLfVb7nSr1UnVZ/v/6nOrPT2WX/lhKGgbAp1/vSiqas4hXARYW1MY1a8DkV4ksMyAfyMYRdyBq//NExKIh6fpcAZyYAPV2cLjDnnh+D0ONN1Jl4fkB2DuGHGtPNEGMSgKJFMRDiAAFUJYhPstyOSRQHo58Xw5QlIwI8CS2fmadNBA0JQyNyYblfbfrL6Z/4sRoHmXr2f////NExG0f8yqcAZloANL/s3/9NP1N/R+kmyv2tscOG66G35KjouI+pIeHSSIVXM4tHElLMwZgzA0gr8rcWzts3InKLUrTsV4qddUOTOpXF4oXuE0hyCKFDSZEEEsn09Zh//NExEAfEaagAdl4AGhRLaQVSjQ6CeK4PuOxQXF/FgSZg+LrOsUzX1rvUkSC27i3aV01OUSNuTk0qHCt6WKS7///p/hIXhsQBWqgiIXxFtaQcVL8wAAiX0bIDFwgnBpr//NExBYWoZqgAMpMlMbBxloUkrYVcmrW1CaF1q779wlBCTDIMyOJIgRKZBcgoiFBRFCuclrf7v+/7n//7VnftroCsY78fUsVJv////+RQPDpGmg2wBVOG8y7cSh6UO04//NExA4T0fKkAMIEmN+F9hUVUuRydXNGNW7pCcs0C6BzILTba2ka3sWpSuVde3+/9P3X2p+v7NiCJKf6ghKO3g+GFKDHD8TvUEATEA0H6gOJD2Reil7IbmOynVPuxHnQ//NExBEUuxqsAClKvUAcpldlq7rVv/quy7b/9aPT2t7f9VvU113q+rtT2306yEHKZjiRBpDqIIUHHsZw+LiRxJxcpYfi4mQTYOAIcKESSw0yt/TvT9klwqVTih5juX9f//NExBER2yKsADhKvP3///6f/dV1/6Ve/0pp713o/SNnWgmKOHjC5CCwkJgpziAdFwQTEDTiZwcPHFB4uHRgSDwMIsoA2///9It/5mEwkZfv8/5P6X//6o/v//9+1VUm//NExBwRExqoAChKvd6f/6OszjElGiKGRTGKOY4DBIeODwwXDRo8WFBwQFBoOYIAQgcIEEUqASP//TzudfqYFMBCdaTvn/////v/+v+/76Uc7R2vTa/u9lotT0VRwiYS//NExCoR0x6gAFBOvRq5NWNJzNSps4eMeJj4tg/BaEpoQio0qTCI8Ul1qglEFf/6mVuhun0ddU6r////+////ov7f///2/+/qzSNGOOclcRSJA8UDYmWCVR4oLR+Izlx//NExDUSIyKUAU04AOEQcHBsaaFgATBSaJIwLQJCUOkaB3FQDAUnikfTLrraUU2MdIvFGp+WEuOJMySRb3QPkw6pJFFX2WTkzzM9Gl+gZJIoO9f/7JSYgYKc21sqkl/6//NExD8fOupsAZRoAM8tBE4eHKs2MipVTy6xio6XVf/hJh4D4JiDABehxgNYRAGCA4SQAhgu+ZkQYVNE4PpdHEWjGNRPgLrYp6wlYBBRJaPkrEpUSDSoqlig4rK6zv7+//NExBUSeCnwAcYYAT6KpWpYrI3ZFxX/////////////5ti6Wlanbv//3+yUwVESw1SokGmTREsNEVREg0KHBMMkAgZHaYKCBHI7P/TMjMn8zL5kXxGRGXIyIy9URfRU//NExB4RgrV4ABBEuUX0VEX//RV+VFVF6oqov//+ioqpzFDAwaHahQwMGEHcqrh/TTV+VQ9MQU1FMy4xMDCqqqqqqqqqqqqqqqqqqqqqqqqqqqqqqqqqqqqqTEFNRTMu//NExCsAAANIAAAAADEwMKqqqqqqqqqqqqqqqqqqqqqqqqqqqqqqqqqqqqqqqqqqqqqqqqqqqqqqqqqqqqqqqqqqqqqqqqqqqqqqqqqqqqqqqqqqqqqqqqqqTEFNRTMu//NExH4AAANIAAAAADEwMKqqqqqqqqqqqqqqqqqqqqqqqqqqqqqqqqqqqqqqqqqqqqqqqqqqqqqqqqqqqqqqqqqqqqqqqqqqqqqqqqqqqqqqqqqqqqqqqqqqTEFNRTMu//NExKwAAANIAAAAADEwMKqqqqqqqqqqqqqqqqqqqqqqqqqqqqqqqqqqqqqqqqqqqqqqqqqqqqqqqqqqqqqqqqqqqqqqqqqqqqqqqqqqqqqqqqqqqqqqqqqqTEFNRTMu//NExKwAAANIAAAAADEwMKqqqqqqqqqqqqqqqqqqqqqqqqqqqqqqqqqqqqqqqqqqqqqqqqqqqqqqqqqqqqqqqqqqqqqqqqqqqqqqqqqqqqqqqqqqqqqqqqqqTEFNRTMu//NExKwAAANIAAAAADEwMKqqqqqqqqqqqqqqqqqqqqqqqqqqqqqqqqqqqqqqqqqqqqqqqqqqqqqqqqqqqqqqqqqqqqqqqqqqqqqqqqqqqqqqqqqqqqqqqqqqTEFNRTMu//NExKwAAANIAAAAADEwMKqqqqqqqqqqqqqqqqqqqqqqqqqqqqqqqqqqqqqqqqqqqqqqqqqqqqqqqqqqqqqqqqqqqqqqqqqqqqqqqqqqqqqqqqqqqqqqqqqqTEFNRTMu//NExKwAAANIAAAAADEwMKqqqqqqqqqqqqqqqqqqqqqqqqqqqqqqqqqqqqqqqqqqqqqqqqqqqqqqqqqqqqqqqqqqqqqqqqqqqqqqqqqqqqqqqqqqqqqqqqqqqqqqqqqq//NExKwAAANIAAAAAKqqqqqqqqqqqqqqqqqqqqqqqqqqqqqqqqqqqqqqqqqqqqqqqqqqqqqqqqqqqqqqqqqqqqqqqqqqqqqqqqqqqqqqqqqqqqqqqqqqqqqqqqqqqqqq//NExKwAAANIAAAAAKqqqqqqqqqqqqqqqqqqqqqqqqqqqqqqqqqqqqqqqqqqqqqqqqqqqqqqqqqqqqqqqqqqqqqqqqqqqqqqqqqqqqqqqqqqqqqqqqqqqqqqqqqqqqqq\" type=\"audio/wav\" />\n",
       "                    Your browser does not support the audio element.\n",
       "                </audio>\n",
       "              "
      ],
      "text/plain": [
       "<IPython.lib.display.Audio object>"
      ]
     },
     "execution_count": 7,
     "metadata": {},
     "output_type": "execute_result"
    }
   ],
   "source": [
    "from IPython.display import Audio\n",
    "Audio(response.audio_content)"
   ]
  },
  {
   "cell_type": "code",
   "execution_count": null,
   "id": "f43904a9-3019-4edc-b9fa-654ded702bc4",
   "metadata": {},
   "outputs": [],
   "source": []
  }
 ],
 "metadata": {
  "kernelspec": {
   "display_name": "Python 3 (ipykernel)",
   "language": "python",
   "name": "python3"
  },
  "language_info": {
   "codemirror_mode": {
    "name": "ipython",
    "version": 3
   },
   "file_extension": ".py",
   "mimetype": "text/x-python",
   "name": "python",
   "nbconvert_exporter": "python",
   "pygments_lexer": "ipython3",
   "version": "3.10.11"
  }
 },
 "nbformat": 4,
 "nbformat_minor": 5
}
