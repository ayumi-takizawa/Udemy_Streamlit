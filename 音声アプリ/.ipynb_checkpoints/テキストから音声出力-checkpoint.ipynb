{
 "cells": [
  {
   "cell_type": "code",
   "execution_count": 1,
   "id": "46677b14-c232-4601-9c59-3ad0af821fc5",
   "metadata": {},
   "outputs": [],
   "source": [
    "\"\"\"Synthesizes speech from the input string of text or ssml.\n",
    "Make sure to be working in a virtual environment.\n",
    "\n",
    "Note: ssml must be well-formed according to:\n",
    "    https://www.w3.org/TR/speech-synthesis/\n",
    "\"\"\"\n",
    "from google.cloud import texttospeech\n",
    "\n",
    "# Instantiates a client\n",
    "client = texttospeech.TextToSpeechClient()\n",
    "\n",
    "# Set the text input to be synthesized\n",
    "synthesis_input = texttospeech.SynthesisInput(text=\"こんにちは、滝澤です。\")\n",
    "\n",
    "# Build the voice request, select the language code (\"en-US\") and the ssml\n",
    "# voice gender (\"neutral\")\n",
    "# 英語：US / 日本語：ja-JP\n",
    "# NEUTORAL / 男性：MALE / 女性：FEMALE\n",
    "voice = texttospeech.VoiceSelectionParams(\n",
    "    language_code=\"ja-JP\",\n",
    "    name=\"ja-JP-Neural2-C\",\n",
    "    ssml_gender=texttospeech.SsmlVoiceGender.MALE\n",
    ")\n",
    "\n",
    "# Select the type of audio file you want returned\n",
    "audio_config = texttospeech.AudioConfig(\n",
    "    audio_encoding=texttospeech.AudioEncoding.MP3\n",
    ")\n",
    "\n",
    "# Perform the text-to-speech request on the text input with the selected\n",
    "# voice parameters and audio file type\n",
    "response = client.synthesize_speech(\n",
    "    input=synthesis_input, voice=voice, audio_config=audio_config\n",
    ")\n",
    "\n",
    "# The response's audio_content is binary.\n",
    "# filename = \"output.mp3\"\n",
    "# with open(filename, \"wb\") as out:\n",
    "#     # Write the response to the output file.\n",
    "#     out.write(response.audio_content)\n",
    "#     print(f'音声データは{filename}ファイルに書き出しました')"
   ]
  },
  {
   "cell_type": "code",
   "execution_count": 3,
   "id": "5c03aff1-6119-4d39-83fc-61c0f66f3209",
   "metadata": {},
   "outputs": [
    {
     "data": {
      "text/html": [
       "\n",
       "                <audio  controls=\"controls\" >\n",
       "                    <source src=\"data:audio/wav;base64,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\" type=\"audio/wav\" />\n",
       "                    Your browser does not support the audio element.\n",
       "                </audio>\n",
       "              "
      ],
      "text/plain": [
       "<IPython.lib.display.Audio object>"
      ]
     },
     "execution_count": 3,
     "metadata": {},
     "output_type": "execute_result"
    }
   ],
   "source": [
    "from IPython.display import Audio\n",
    "Audio(response.audio_content)"
   ]
  },
  {
   "cell_type": "code",
   "execution_count": null,
   "id": "f9d39dfd-1853-4f28-a6c1-2b6df8c13631",
   "metadata": {},
   "outputs": [],
   "source": [
    "from google.cloud import texttospeech"
   ]
  },
  {
   "cell_type": "code",
   "execution_count": 20,
   "id": "2f202d12-bc15-4105-bc4e-04035a5baf78",
   "metadata": {},
   "outputs": [
    {
     "data": {
      "text/html": [
       "\n",
       "                <audio  controls=\"controls\" >\n",
       "                    <source src=\"data:audio/wav;base64,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\" type=\"audio/wav\" />\n",
       "                    Your browser does not support the audio element.\n",
       "                </audio>\n",
       "              "
      ],
      "text/plain": [
       "<IPython.lib.display.Audio object>"
      ]
     },
     "execution_count": 20,
     "metadata": {},
     "output_type": "execute_result"
    }
   ],
   "source": [
    "lang_code = {\n",
    "    '英語' : 'en-US',\n",
    "    '日本語' : 'ja-JP'\n",
    "}\n",
    "\n",
    "gender_type = {\n",
    "    #'デフォルト':texttospeech.SsmlVoiceGender.SSML_VOICE_GENDER_UNSPECIFIED,\n",
    "    '男性':texttospeech.SsmlVoiceGender.MALE,\n",
    "    '女性':texttospeech.SsmlVoiceGender.FEMALE,\n",
    "    'ニュートラル':texttospeech.SsmlVoiceGender.NEUTRAL\n",
    "}\n",
    "\n",
    "if lang_code == '日本語':\n",
    "    voice_type = {\n",
    "        '男性' : \"ja-JP-Neural2-C\",\n",
    "        '女性' : \"ja-JP-Neural2-B\",\n",
    "        'ニュートラル' : \"\"\n",
    "else:\n",
    "    voice_type = {\n",
    "        '男性' : \"en-US-Neural2-J\",\n",
    "        '女性' : \"en-US-Neural2-F\",\n",
    "        'ニュートラル' : \"\"\n",
    "}\n",
    "\n",
    "# 初期値設定\n",
    "lang = '日本語'\n",
    "g_type = 'ニュートラル'\n",
    "v_type = 'ニュートラル'\n",
    "talk_text = \"こんにちは、滝澤です。\"\n",
    "\n",
    "client = texttospeech.TextToSpeechClient()\n",
    "\n",
    "synthesis_input = texttospeech.SynthesisInput(text = talk_text)\n",
    "\n",
    "voice = texttospeech.VoiceSelectionParams(\n",
    "    language_code=lang_code[lang],\n",
    "    name=voice_type[v_type],\n",
    "    ssml_gender=gender_type[g_type]\n",
    ")\n",
    "\n",
    "audio_config = texttospeech.AudioConfig(\n",
    "    audio_encoding=texttospeech.AudioEncoding.MP3\n",
    ")\n",
    "\n",
    "\n",
    "response = client.synthesize_speech(\n",
    "    input=synthesis_input, voice=voice,\n",
    "    audio_config=audio_config\n",
    ")\n",
    "\n",
    "Audio(response.audio_content)"
   ]
  },
  {
   "cell_type": "code",
   "execution_count": null,
   "id": "05ba5fa4-9a6f-4744-a2a5-469d9bc89d1f",
   "metadata": {},
   "outputs": [],
   "source": []
  },
  {
   "cell_type": "code",
   "execution_count": null,
   "id": "bc51ff96-f9fc-4e4e-8cc0-13d25441efb6",
   "metadata": {},
   "outputs": [],
   "source": []
  }
 ],
 "metadata": {
  "kernelspec": {
   "display_name": "Python 3 (ipykernel)",
   "language": "python",
   "name": "python3"
  },
  "language_info": {
   "codemirror_mode": {
    "name": "ipython",
    "version": 3
   },
   "file_extension": ".py",
   "mimetype": "text/x-python",
   "name": "python",
   "nbconvert_exporter": "python",
   "pygments_lexer": "ipython3",
   "version": "3.10.11"
  }
 },
 "nbformat": 4,
 "nbformat_minor": 5
}
