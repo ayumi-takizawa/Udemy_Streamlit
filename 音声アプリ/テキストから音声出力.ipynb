{
 "cells": [
  {
   "cell_type": "code",
   "execution_count": 1,
   "id": "46677b14-c232-4601-9c59-3ad0af821fc5",
   "metadata": {},
   "outputs": [],
   "source": [
    "\"\"\"Synthesizes speech from the input string of text or ssml.\n",
    "Make sure to be working in a virtual environment.\n",
    "\n",
    "Note: ssml must be well-formed according to:\n",
    "    https://www.w3.org/TR/speech-synthesis/\n",
    "\"\"\"\n",
    "from google.cloud import texttospeech\n",
    "\n",
    "# Instantiates a client\n",
    "client = texttospeech.TextToSpeechClient()\n",
    "\n",
    "# Set the text input to be synthesized\n",
    "synthesis_input = texttospeech.SynthesisInput(text=\"こんにちは、滝澤です。\")\n",
    "\n",
    "# Build the voice request, select the language code (\"en-US\") and the ssml\n",
    "# voice gender (\"neutral\")\n",
    "# 英語：US / 日本語：ja-JP\n",
    "# NEUTORAL / 男性：MALE / 女性：FEMALE\n",
    "voice = texttospeech.VoiceSelectionParams(\n",
    "    language_code=\"ja-JP\",\n",
    "    name=\"ja-JP-Neural2-C\",\n",
    "    ssml_gender=texttospeech.SsmlVoiceGender.MALE\n",
    ")\n",
    "\n",
    "# Select the type of audio file you want returned\n",
    "audio_config = texttospeech.AudioConfig(\n",
    "    audio_encoding=texttospeech.AudioEncoding.MP3\n",
    ")\n",
    "\n",
    "# Perform the text-to-speech request on the text input with the selected\n",
    "# voice parameters and audio file type\n",
    "response = client.synthesize_speech(\n",
    "    input=synthesis_input, voice=voice, audio_config=audio_config\n",
    ")\n",
    "\n",
    "# The response's audio_content is binary.\n",
    "# filename = \"output.mp3\"\n",
    "# with open(filename, \"wb\") as out:\n",
    "#     # Write the response to the output file.\n",
    "#     out.write(response.audio_content)\n",
    "#     print(f'音声データは{filename}ファイルに書き出しました')"
   ]
  },
  {
   "cell_type": "code",
   "execution_count": 3,
   "id": "5c03aff1-6119-4d39-83fc-61c0f66f3209",
   "metadata": {},
   "outputs": [
    {
     "data": {
      "text/html": [
       "\n",
       "                <audio  controls=\"controls\" >\n",
       "                    <source src=\"data:audio/wav;base64,//NExAAAAANIAAAAAExBTUUzLjEwMFVVVVVVVVVVVVVVVVVVVVVVVVVVVVVVVVVVVVVVVVVVVVVVVVVVVVVVVVVVVVVVVVVVVVVVVVVVVVVVVVVVVVVVVVVVTEFNRTMu//NExFMAAANIAAAAADEwMFVVVVVVVVVVVVVVVVVVVVVVVVVVVVVVVVVVVVVVVVVVVVVVVVVVVVVVVVVVVVVVVVVVVVVVVVVVVVVVVVVVVVVVVVVVVVVVVVVVTEFNRTMu//NExKYAAANIAAAAADEwMFVVVVVVVVVVVVVVVVVVVVVVVVVVVVVVVVVVVVVVVVVVVVVVVVVVVVVVVVVVVVVVVVVVVVVVVVVVVVVVVVVVVVVVVVVVVVVVVVVVTEFNRTMu//NExKwAAANIAAAAADEwMFVVVVVVVVVVVVVVVVVVVVVVVVVVVVVVVVVVVVVVVVVVVVVVVVVVVVVVVVVVVVVVVVVVVVVVVVVVVVVVVVVVVVVVVVVVVVVVVVVVTEFNRTMu//NExKwAAANIAAAAADEwMFVVVVVVVVVVVVVVVVVVVVVVVVVVVVVVVVVVVVVVVVVVVVVVVVVVVVVVVVVVVVVVVVVVVVVVVVVVVVVVVVVVVVVVVVVVVVVVVVVVTEFNRTMu//NExKwAAANIAAAAADEwMFVVVVVVVVVVVVVVVVVVVVVVVVVVVVVVVVVVVVVVVVVVVVVVVVVVVVVVVVVVVVVVVVVVVVVVVVVVVVVVVVVVVVVVVVVVVVVVVVVVTF0ShiP5//NExKwAAANIAAAAAGCeSC+cnyJGtOiaPwsDwRzBPBC0teRuP9/e5e+V/v76Uvn8UccYWjo8qmRkymMIFo8sUxxnTzJ3n2KwwgWEWCpszSAwcFhYNmAc/NG+gzrNmXU6//NExKwAAANIAAAAAITGAcP+sOA+PClDSggKBxjAUnQ0y4/EbsSVd8XjccfyHH3gGHnkh+GKG/XtI5IEAUEhAGEDUSfBWsm+JJdIIyTFezR1dJvvWyByjC78RoEDvckG//NExKwAAANIAAAAAGQnSbTC7ewjKFQ5AgI29UYUJMrYJo5zrINrtqIEEIWuTzRo5o5IG9hfXb9wjO0b1Iz8LnOkyfYXNIUO+TY6jHvYddIkYUQZUFGLn9QIGABfzaAs//NExP8YOZV8AGMGlDYqa0yQu6lrFUaosvysF6DFFVciCagDVIB0sGxhJLdpuK0EBxnCBXskybs5GkYOoU0T//2eKXLhNlMmCm2voO3cc0ixUJYd4uQXX9t2/GVFLk2T//NExPEmgxngAVtIAQZmJwzLur/pf35ePFUny4kXzAnjU3P/b//t/5oXzMoLJ02NEDc0OHVVm8KIToyfrTijC65+MOQt/FwZJaEWAoI/ffOn6X/s1X/9///9lM6aH/qb//NExKof2yooAZmgAPsmyv/////91///st6aaf+yZqZIol5RsPiKLZBis1MsLjqIsOmaNGfNKHLgYQKIlyqbGLWziDSlElO5ff/6r3//+n6oz/Vl2Xu+n//////Z57kR//NExH0Q2xqgAY9oAQIk5w4fAiIqXSw+ovNalzxkDgEwgs7YkU2eayyqNWLPUsAeg3gsh4D3QUfda26+r//V61t//+lW0ofsm9Hb9f//1vt/3+i1moZ1LR4Z4FEigpq+//NExIwR+oqgAc8QACWGklfxcG2j9KwMxJDJ8aKJ4jEGuDG9Jl2VVDJh4kQgQNLHgkYsIgRFlhETWC/tmrlz3R3F28j/wP6fcCm8Z+Wf7mnyp3elO5T0g7yD96E4rF6h//NExJcRuo6gAHtEuBi8iwrPKiOcwjlxwzQ+jsppx1TLv/7fNO6smj0d+jnHPZfqqHPvR+ab/1Wu9zVdjSU9SajAhBj7WkMIxEDmsE5rInMgFiPBbTKQ0VCjHToFDBZ0//NExKMgaxaEANPOueC8xQAUkaOBzimk0XwSSXyre0lur/zbvQ67dLTRiX0dmbwyqYWLF25ZM4eNqxwdHcpg3LjJFEU5Kx9HWsWuv+pWGgrZJ5HKMZXaykREUbXXd/////NExHQe6WKEAN5YlPK1ev/8kcCaxqL7NhUNDiCxjXOVA6wWBCIjESA9Rwq8npBmVvJiAGQW6jfqpRt7i5MDwkq8rNp2Z3op4guBYIiQI2Hy09i7ft/2cqSKaqNUMSgR//NExEsTCT6kAMvMcX1VT4rwwFQR/0cseMACTKBFfNHAgEGolYB/HE+gJ5mo+XJo4VNYCjlrBJJola2UpqZG2GWabRNqowkM0GgoshZOMMBU2qos9L0OJ1pH3OAiwEmF//NExFESaQqgANPScEYNAMDTgVAxIz1SlgF3qgZBiP7GRIRzNVCpqLRKJ/dZdWe2LstCxU5PS3okiKHQ+JD4plRWqq4/NShJEDgNr/z9hiqJW6yWoju0K6CJigKLO8nv//NExFoSURKYANpYcUC53LwcxUZz0hAM8eTSchRxTLS/5scv/rJYppdBIsViLxLf2Yi39lz00PBs4o18qj////0uu/66XBTO6X+NuuAxiX7B6JhKUNrTGIhjVKYgSobN//NExGMR4RqYANrYcIkXuLIu6Iz3dSPt+0znzpfeVCdZzgyEddyIeRBveqhxHETUHZX1v/v///7V1YzMLzLnm+1BqRAGAj5JrmOF7O5H70P3b1lF2KYYagrDmjIRbrWP//NExG4RyQ6QANtWcKbaio/VKL6ZJNcZyAzFwPhbrGI5UB77KN/U7////5f/+lVqo5EtyMifFimloZIGkRnAhWPmFBQIAG7VnHmVG8whgRBOIciEIcBwNuxWokqaiB41//NExHkR0P6QAVtoAAK9jR4RqsiwSAYOF+4KCASCPFB4SHAKhEBv//u90+YgoWgcMFb//8gcLnuidnjhb2Zl///7/l7T+kdV4+PjJ/n///9354RHv3f3HDDihzIKur12//NExIQgawagAZtAARlVUwqRqp/pfsRtxudxmZJl3/ov/99/6///30HtDgJEVQUBm7iYb2UDxLaeI/YZbKEbKKB2aVE5yhd9////3U1vUyr/6bHNt0MaImax6jwFSGp8//NExFURwYawAdk4AO14rxrp9e//5f2voHYe0MFQDRwOBs0ECGDU4thWuEb7Q5tBp1vZoVUIqP///7X2x7j4TEKX/0WH5A8YhiM8QDLOWnsCQkNYxR41eDkAgFpjG66G//NExGERKX6wAMhQlDf/39vM/1RJI4BLacpyOElm05GfON/5mZxv+aj3NIhIKVf/u5L/+JVjIdBqIhx4tZYHVRIjGjILR6odGkPOzFEzKC0jG0geHb1aXfDUuypu7/ta//NExG8TkYqUAMiMlJrXYarGaqpeqlNVWAR8FAVx14ixbPWhJ7AEWaVYQlkZaBSpGj6v/5JbqnsdqPbaVT6lQ1sB1T7/u4Iz+/jMvJRaYW0jDb48DM3L4mJ0TQeH3m60//NExHMT0OJMAVoYAMbx6DgEzGb83MGHoaRhh9J48xyj//NC4aJpxhwuZ4cY9RoHoMj/kvemXETdAdxKD0CKEERgLeJYSX/5catzfUhQQJQdhKjegS6RTJhBNf//Qat0//NExHYh+yp8AY9oAN0K3bysl0hkGRPJJE0NU3HAWAQTeWSjO6en08yv3pvTbzvzOTPzkzM0p2bn5vZlNnvmWKXf+/0WOWm8nccN0ijm1jhnSPzCA9M0SQsRlNUWEzBk//NExEEgKw6gAcNgASJrgrD9kdyuSHfMDFHrxg0cOzWBafzBRxu1f2z/fS92HbNIn9+7HScHETl5xfa8azpoYZC6+s+jiyGrlVbstM07AbL//////6EU/++rsodyp/5f//NExBMRGprIAAiGuMy+BEBYonFgmK1z8IRCh0DmFBN0YY7TPKEZdvIXZKXtS+bflP470aLOPEy1NSSNbqFK38kYDIZskgFgnj6j//Xn5O36E0IYgcDYQLAxzCAAhggA//NExCESWWbEAHiGlKwcOKSu5UiNIRkEHChXHEkKC4owGgqkibCQMjXCLr6/q/f3UcOkUf1Vx/BJ4mT24MYZzKpfgEuR7/Y7hru0JhhpdFiyt16NxYhk510nAZe9hAEZ//NExCoQ+Ua4AMLYceQxceu0LamrLr0wTbGG7XXpI7na78JoGs/6/KqXXRJtSkOk3kcgAYRvKPnHyx8sDhH5UA46+EhjQphMOtOLha/EI+mja3tnGoFyZGIxEJkmZSns//NExDkSEU60AMMSlX3t/x6+stSLpJzpJlRaJerf5iAdLqUCTZDJBAI0H1bVTW6v31JWaHuiFsqkTQSqCK+DfYXjAzYxTPvv3vhoykyYllg5RMLZk6xod73Sz2RECCZ1//NExEMSCUq8AMPMlRhBsOLtVf+uua/uNQL2UQ9Go8yQIM+Ug8FYaB+tDAqEOYlIX5RRj/PAoicG+9iTzPK4k1vd8PO4U5qw5x6JZhi8u/83HZ7Tw/UhdpdbySD9Ktep//NExE0SiV7IAMPMlROpDRm6YjYKBHbGAEdWD/FrmhodFljK21FFPKWLexztLG++oHpS27tttvubJgQ4BkiylU2U2M7S7TRJSOJmNZlF0268gBLpBe0x01A/uKw9auBk//NExFURMWbMAHvMlS9bPlU0Yc5Pxys8VUdlDqcn5q6gMuoEtfrxMxctiTESRREBG6jjfI1/ORMoFpJlLTaqMlz3D/kalOHAu9DescFrA5ULgeu3JEWywM0JxzDYnK6c//NExGMRgXrIAFvMlS5NJcBcUpeLqNi+K63+1XmZVcokmQBRjmq3y05rzWvU45uaWj2S6LVXVTaUgA2i9a+G5RSIjUgGA0KQRFLQhEqGgtBMl5UlJIETUmAGHZ7Py09k//NExHAROXbAAGPMldrfb5ma5ay57Fq1at5KTTNsxQYb52V9Kg0oQ512cu1duRqNVIal0lkSZYNKACEysKCx+KrK2kJkdwXYEmDml08kkbaTa2rRbSfooqSSLxstGYuI//NExH4QiRKgAHpYcYDB3UDQdOnQa//qfiKuNd044yWAgUmHwMYOCKWjO2cuSCQaNJLNLimkR0QAUyiXSmuzlb0UaIhkw2ZdzAd4aQHREd5Z/skes6/7fLPKhM7/1D6v//NExI4SMSZkAMJacPln6004MEIhu8uF7YPe6/FR7B1ls1I8SwNRtKlIuqbSpDGByiGcLKIZ6KO3oq7ejvb0d7ejv3o79rd+zn6//173697te92vf+mMGXB3EnaWRV6p//NExJgSKKIAAOJSTFJhP+sM06AV2wlwgPLwlJxdEVESic2JKk5JrhkfQmLp0Y0OlTJjEdH2LngoCQEBAwIUFAUAhVATCgMAhQUBQKJgEYUBIMsAjCiYGZhRqsDBI0Fh//NExKIRMIHYANpMSSU0FhJSQqElJDArEkNCorA0GisHAsVEcCwURUVCyKioWTYoKxbNCooGoTByKhNFAdjgOY2HjpwuojQNzzYsoIGCDBQwMEDCBwgLEjUFgkLCwuKi//NExLAhOYXEAMMGlazioqKCwsLC3rFRUVFRb6hYWFRX+LCwtUxBTUUzLjEwMFVVVVVVVVVVVVVVVVVVVVVVVVVVVVVVVVVVVVVVVVVVVVVVVVVVVVVVVVVVaYRlCoqE//NExH4QqI0MAGJGTKPCw6JhKEg4EwYBsGBYXHDZIjUXqUZMvc2w29zbE4XKMZRFDDiBYgY0dLFZlYSOMLECzI0eWKrKYw4gWIWDKrhKyyy6rP+qqqqp/+qssssf/6WV//NExI4AAANIAAAAAFVVRH/6qyyyy///qqqqqjnRk2aEEpQSC4Q/edNOACuaUDAwMg5hAAnfcDFuD6wcGg+8PqLji7yjniB5TDPB9x8EAG8g0gT1ygYyAfh+sPxPB9An//NExKwAAANIAAAAAOoIvW/DxPlDhOlZ8QBiUBAz+pIxzOMyaBQwcCIqgGXjoXwcGxGIm/UriF2eoaXcbymblPnZud2CkBknnc42ixBVJE+tpTo84+MrKmeWlly0tdQn//NExP8ZyWUAAEpGlaeYQacTKl8s4pHBBm4dMF68vf95Soyu5UO+p0pFvZ0rTXk7ZaTQ0K2GRmq2duFftaHvNzYwm8SVuHZ8opLaZiLfg1U9AB3COy8pSFUow7Z4jgZw//NExOoVAH30ANjGSBf3/Xm9/1j7ASIDR/VgZmFiQA+AHp/4YQAOwA4BmRS+/24pcOjC+4BZisCcP/8YQuAvjHCdQsrE7/X/+OeOMiY5YyYuM4aCyP///xzB2BhQVuWy//NExOkhSu34AV0wAWyuXCiOUIABxn////+Q4PUEECGjjEEzZhxkMHYTRIjjNY2pBYDjERbMUXfLu5WIk6lO9OpgCcB+IMEsEYPYeAMiYdZUiCWTieZEAqUEGJSHaNBu//NExLYgwyowAZqQAMPkK+ToFCaO+ziDVz69dyO4+YnjLG87ybw5Vzkqq3TL5g504583bH22I2z9RXH7IqZiop88y793/Xy+tkR/3EtPses0ZOa7LT1GhS9rcZW8+b+W//NExIYfYoagAZhYACbm6f4vag503SlzR3jl7SFoAkRZFYZXDDDwRbChZcRcydCvqtBErgm+AvKoHsl1S3rpr8WHltb2BkaZ2VqmYUOV0RnNFiwzvKVhK1RwIsTMtqW1//NExFsgqYqQAdh4AfNqxXTG4KrNo+IvcI0isuWSMUGeKbPy1RFPkq1/nf4p/Pd7N/d+3tJmLYAOBGE8fDQ8VnhwZcXjzOH4ja04EIjNaafGYrI6eAXajVVwm2gNpzYH//NExCsbmb6YAH4YldG6NcddzcIXI3kqQIstE5EmYjTupiWcEo7EcEiea1ohVWn0a2Fm7PW2szFW1v123/mzOzMzn9N5j6NJ7lc63m/17tS1ijVAolYkr69LNX7e7BgT//NExA8U+SacAMPYcGi3IcaSXYD4Mq0ZuOrZ/LTWywXtXvMuQXdjMTkAUoF0ql4uoRdUPlmM6u1RdVcnMDx9yGD6KqsjTJ1JViSITzTPrub/1kVDHoJU2yCZAEzpTaDY//NExA4WKdJkAMMQlG12w4xKCYcD4kkI1/Lrc/LVp/NWtvTO1x6uMvNeodCNAdB8qiowPhY8FohCQXMOJQ4mmbWG+fmtV+e4aV2i/5WoyjpFaKOlh//rXTc0PMIiIyKA//NExAgRMLokAVwYAMWHS84FiU9SWPzlPLf91Uu87jh+/6sarr5nSmGKarJhUy0XsXkKkkL6tW+fMa8i9LV/QRuG2r+Y5tlGAaUhrHLByv/Q+BX78hif0Y8L4WQbPPQw//NExBYVmdaMAYtQAMAqAOBZf6uejDQYC2Phf+SK55jC8ejYBgG8j/sftgoAGCEAvBbG4hf/mXfisaPhNJhUWd//ECAwq3//ygYc9oIKOUF4yDxh0fMujqbR/6PMpWyl//NExBIRUaaoAccQAP8zMj6G6+rbFKy0EEFAh9AQYCOAqQgIxAoOGdDszDjiRMPhcaHmOYWQ4n///uq8s6KDY+qNUnoBcVqsCFiXZ21mmp///f5///6F0/IxhbhzfsKY//NExB8P6WKsAHhGlDNSdHzdKFcRMiRI8JqEpgmE2Ja9DlLT//+3R8XFUkDQvb3NGCshujo4I7m6OfPz7uuXW+fqffP/52ntvAMdAMPQ1QmM5IOPojdKV/paa+jd699P//NExDIR8vKwAMDEuS7G70//////wTb7q92Il2w45pXF8GG9jTg60H4Jgw7yYca/vDL+Zfql81NHEAfYqEc3UyK4Jf//9v+///+mrf9E/6+v6TK3cgp9zDI6VRXJHnHl//NExD0SWxawAMBOuSYhYaK41QcCAWMxAqp7CGS5K9MGOt+fWaa+cYFmQsjwYLZZtHtM5V9dl8ED9/3+23///pp3tt//7WZk1RtjDHNZR1VYcMMdyp1XVXNkxSNhwkFE//NExEYSkxqsAHhOvRyw4cKqx7SjjR4/cWigJba0cCgEpdOe3L+59icP3/xz/K7L+7qK8UAuC8YKhxXkClaR8pP6auYwLvKHFn1HOGIYdf//7v/8Q/28KWKBoUq5+iUL//NExE4SYQa4AMYQcLm9MLeC9YboJRXVGm0HYrbJw4GZ8wFsWt2g2spDoUVkWgSDKLpBDZvuN8I66L+66A5XFiSAFAm3JpTyfbs0JGwbEMRFVc/IIdG0hhL1TuYTrV9p//NExFcSCYbAAMPGlWBVoGzkNsngXOVrHdWtDD4QfJHUaHLaziwvsPG9xxiDX6tjGt6+cW+bb9KWpFjXajaGtaxGhnNBVUyvFf1NiJa37HS+E/bWADGyybJKjSnZ0wVq//NExGESURbEAH4ecVKX0BBmzymCCZz10gjMldIsQ7BaiHI3NffwvzX3whtZArCNvJ4nzulR+ULnVbVWJADivqW0Dr6qkLhK9inECSuMgsCFFanHCFzZRYEACM8rur3p//NExGoQ0Qa0AMYQcfKo9m/m7P/h/63/6n/N/zeZeNJHuBbzJz6j4QpjCSTk0fPededxFjQdk0dY1vIYEr63MBSTFvSPDYztwYIkFnAZcpp2C+Cbk/NrDxfnzvN54/vv//NExHkSYV6sAMYMlf4Y6Z1ZBB5wgLIAgdKqZ1aRWo6CAWVUFY5+lb35mIdvTPUgMaiVUCW03C8NGcBRGa5NR/rWRonhNcOMhr5WgIg89G4pGR4lL3hz/cvq2OxjYRxg//NExIISUWa4AMYKlXVjXZSZ2x2hHQOjZx521h7h6r027ZhB2JqVqISx6FSyBu4XE0KelqgUttvo21vJyZbiiYsV4/05HIJsoToOtU7ms0FUm5ed2FSFDimLv//NyGkt//NExIsSWW64AMPKlUqVSHUwjrTaAUMB2E2kFDFkvMdFQ0WFzIouNrk4w2AjQoUMJgwiESVSDzX2R0oZeBsCIeMqIKkAFykgbCEoagAXIDKwh5OifxhIj6C1I8hmw1aT//NExJQRGK68AVh4AaxDSIszGC1qWiP4uEMhDLGxgYmqmaks0Ku7qetLfVb7nSr1UnVZ/v/6nOrPT2WX/lhKGgbAp1/vSiqas4hXARYW1MY1a8DkV4ksMyAfyMYRdyBq//NExKIh6fpcAZyYAPV2cLjDnnh+D0ONN1Jl4fkB2DuGHGtPNEGMSgKJFMRDiAAFUJYhPstyOSRQHo58Xw5QlIwI8CS2fmadNBA0JQyNyYblfbfrL6Z/4sRoHmXr2f////NExG0f8yqcAZloANL/s3/9NP1N/R+kmyv2tscOG66G35KjouI+pIeHSSIVXM4tHElLMwZgzA0gr8rcWzts3InKLUrTsV4qddUOTOpXF4oXuE0hyCKFDSZEEEsn09Zh//NExEAfEaagAdl4AGhRLaQVSjQ6CeK4PuOxQXF/FgSZg+LrOsUzX1rvUkSC27i3aV01OUSNuTk0qHCt6WKS7///p/hIXhsQBWqgiIXxFtaQcVL8wAAiX0bIDFwgnBpr//NExBYWoZqgAMpMlMbBxloUkrYVcmrW1CaF1q779wlBCTDIMyOJIgRKZBcgoiFBRFCuclrf7v+/7n//7VnftroCsY78fUsVJv////+RQPDpGmg2wBVOG8y7cSh6UO04//NExA4T0fKkAMIEmN+F9hUVUuRydXNGNW7pCcs0C6BzILTba2ka3sWpSuVde3+/9P3X2p+v7NiCJKf6ghKO3g+GFKDHD8TvUEATEA0H6gOJD2Reil7IbmOynVPuxHnQ//NExBEUuxqsAClKvUAcpldlq7rVv/quy7b/9aPT2t7f9VvU113q+rtT2306yEHKZjiRBpDqIIUHHsZw+LiRxJxcpYfi4mQTYOAIcKESSw0yt/TvT9klwqVTih5juX9f//NExBER2yKsADhKvP3///6f/dV1/6Ve/0pp713o/SNnWgmKOHjC5CCwkJgpziAdFwQTEDTiZwcPHFB4uHRgSDwMIsoA2///9It/5mEwkZfv8/5P6X//6o/v//9+1VUm//NExBwRExqoAChKvd6f/6OszjElGiKGRTGKOY4DBIeODwwXDRo8WFBwQFBoOYIAQgcIEEUqASP//TzudfqYFMBCdaTvn/////v/+v+/76Uc7R2vTa/u9lotT0VRwiYS//NExCoR0x6gAFBOvRq5NWNJzNSps4eMeJj4tg/BaEpoQio0qTCI8Ul1qglEFf/6mVuhun0ddU6r////+////ov7f///2/+/qzSNGOOclcRSJA8UDYmWCVR4oLR+Izlx//NExDUSIyKUAU04AOEQcHBsaaFgATBSaJIwLQJCUOkaB3FQDAUnikfTLrraUU2MdIvFGp+WEuOJMySRb3QPkw6pJFFX2WTkzzM9Gl+gZJIoO9f/7JSYgYKc21sqkl/6//NExD8fOupsAZRoAM8tBE4eHKs2MipVTy6xio6XVf/hJh4D4JiDABehxgNYRAGCA4SQAhgu+ZkQYVNE4PpdHEWjGNRPgLrYp6wlYBBRJaPkrEpUSDSoqlig4rK6zv7+//NExBUSeCnwAcYYAT6KpWpYrI3ZFxX/////////////5ti6Wlanbv//3+yUwVESw1SokGmTREsNEVREg0KHBMMkAgZHaYKCBHI7P/TMjMn8zL5kXxGRGXIyIy9URfRU//NExB4RgrV4ABBEuUX0VEX//RV+VFVF6oqov//+ioqpzFDAwaHahQwMGEHcqrh/TTV+VQ9MQU1FMy4xMDCqqqqqqqqqqqqqqqqqqqqqqqqqqqqqqqqqqqqqTEFNRTMu//NExCsAAANIAAAAADEwMKqqqqqqqqqqqqqqqqqqqqqqqqqqqqqqqqqqqqqqqqqqqqqqqqqqqqqqqqqqqqqqqqqqqqqqqqqqqqqqqqqqqqqqqqqqqqqqqqqqTEFNRTMu//NExH4AAANIAAAAADEwMKqqqqqqqqqqqqqqqqqqqqqqqqqqqqqqqqqqqqqqqqqqqqqqqqqqqqqqqqqqqqqqqqqqqqqqqqqqqqqqqqqqqqqqqqqqqqqqqqqqTEFNRTMu//NExKwAAANIAAAAADEwMKqqqqqqqqqqqqqqqqqqqqqqqqqqqqqqqqqqqqqqqqqqqqqqqqqqqqqqqqqqqqqqqqqqqqqqqqqqqqqqqqqqqqqqqqqqqqqqqqqqTEFNRTMu//NExKwAAANIAAAAADEwMKqqqqqqqqqqqqqqqqqqqqqqqqqqqqqqqqqqqqqqqqqqqqqqqqqqqqqqqqqqqqqqqqqqqqqqqqqqqqqqqqqqqqqqqqqqqqqqqqqqTEFNRTMu//NExKwAAANIAAAAADEwMKqqqqqqqqqqqqqqqqqqqqqqqqqqqqqqqqqqqqqqqqqqqqqqqqqqqqqqqqqqqqqqqqqqqqqqqqqqqqqqqqqqqqqqqqqqqqqqqqqqTEFNRTMu//NExKwAAANIAAAAADEwMKqqqqqqqqqqqqqqqqqqqqqqqqqqqqqqqqqqqqqqqqqqqqqqqqqqqqqqqqqqqqqqqqqqqqqqqqqqqqqqqqqqqqqqqqqqqqqqqqqqTEFNRTMu//NExKwAAANIAAAAADEwMKqqqqqqqqqqqqqqqqqqqqqqqqqqqqqqqqqqqqqqqqqqqqqqqqqqqqqqqqqqqqqqqqqqqqqqqqqqqqqqqqqqqqqqqqqqqqqqqqqqqqqqqqqq//NExKwAAANIAAAAAKqqqqqqqqqqqqqqqqqqqqqqqqqqqqqqqqqqqqqqqqqqqqqqqqqqqqqqqqqqqqqqqqqqqqqqqqqqqqqqqqqqqqqqqqqqqqqqqqqqqqqqqqqqqqqq//NExKwAAANIAAAAAKqqqqqqqqqqqqqqqqqqqqqqqqqqqqqqqqqqqqqqqqqqqqqqqqqqqqqqqqqqqqqqqqqqqqqqqqqqqqqqqqqqqqqqqqqqqqqqqqqqqqqqqqqqqqqq\" type=\"audio/wav\" />\n",
       "                    Your browser does not support the audio element.\n",
       "                </audio>\n",
       "              "
      ],
      "text/plain": [
       "<IPython.lib.display.Audio object>"
      ]
     },
     "execution_count": 3,
     "metadata": {},
     "output_type": "execute_result"
    }
   ],
   "source": [
    "from IPython.display import Audio\n",
    "Audio(response.audio_content)"
   ]
  },
  {
   "cell_type": "code",
   "execution_count": null,
   "id": "f9d39dfd-1853-4f28-a6c1-2b6df8c13631",
   "metadata": {},
   "outputs": [],
   "source": [
    "from google.cloud import texttospeech"
   ]
  },
  {
   "cell_type": "code",
   "execution_count": 50,
   "id": "2f202d12-bc15-4105-bc4e-04035a5baf78",
   "metadata": {},
   "outputs": [],
   "source": [
    "def synthesize_talk(text, lang='日本語', type='ニュートラル'):\n",
    "    g_type = v_type = type\n",
    "    \n",
    "    lang_code = {\n",
    "        '英語' : 'en-US',\n",
    "        '日本語' : 'ja-JP'\n",
    "    }\n",
    "    \n",
    "    gender_type = {\n",
    "        '男性' : texttospeech.SsmlVoiceGender.MALE,\n",
    "        '女性' : texttospeech.SsmlVoiceGender.FEMALE,\n",
    "        'ニュートラル' : texttospeech.SsmlVoiceGender.NEUTRAL\n",
    "    }\n",
    "    \n",
    "    if lang == '日本語':\n",
    "        voice_type = {\n",
    "            '男性' : \"ja-JP-Neural2-C\",\n",
    "            '女性' : \"ja-JP-Neural2-B\",\n",
    "            'ニュートラル' : \"\"\n",
    "        }\n",
    "    else:\n",
    "        voice_type = {\n",
    "            '男性' : \"en-US-Neural2-J\",\n",
    "            '女性' : \"en-US-Neural2-F\",\n",
    "            'ニュートラル' : \"\"\n",
    "        }\n",
    "    \n",
    "    client = texttospeech.TextToSpeechClient()\n",
    "    \n",
    "    synthesis_input = texttospeech.SynthesisInput(text = talk_text)\n",
    "    \n",
    "    voice = texttospeech.VoiceSelectionParams(\n",
    "        language_code=lang_code[lang],\n",
    "        name=voice_type[v_type],\n",
    "        ssml_gender=gender_type[g_type]\n",
    "    )\n",
    "    \n",
    "    audio_config = texttospeech.AudioConfig(\n",
    "        audio_encoding=texttospeech.AudioEncoding.MP3\n",
    "    )\n",
    "    \n",
    "    response = client.synthesize_speech(\n",
    "        input=synthesis_input, voice=voice,\n",
    "        audio_config=audio_config\n",
    "    )\n",
    "    return response\n"
   ]
  },
  {
   "cell_type": "code",
   "execution_count": 53,
   "id": "05ba5fa4-9a6f-4744-a2a5-469d9bc89d1f",
   "metadata": {},
   "outputs": [
    {
     "data": {
      "text/html": [
       "\n",
       "                <audio  controls=\"controls\" >\n",
       "                    <source src=\"data:audio/wav;base64,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\" type=\"audio/wav\" />\n",
       "                    Your browser does not support the audio element.\n",
       "                </audio>\n",
       "              "
      ],
      "text/plain": [
       "<IPython.lib.display.Audio object>"
      ]
     },
     "execution_count": 53,
     "metadata": {},
     "output_type": "execute_result"
    }
   ],
   "source": [
    "lang='日本語'\n",
    "#lang='英語'\n",
    "type = 'ニュートラル'\n",
    "#talk_text = \"こんにちは、滝澤です。\"\n",
    "talk_text = \"Hello! I'm Takizawa.\"\n",
    "\n",
    "response = synthesize_talk(talk_text, lang, type)\n",
    "Audio(response.audio_content)"
   ]
  },
  {
   "cell_type": "code",
   "execution_count": null,
   "id": "bc51ff96-f9fc-4e4e-8cc0-13d25441efb6",
   "metadata": {},
   "outputs": [],
   "source": []
  }
 ],
 "metadata": {
  "kernelspec": {
   "display_name": "Python 3 (ipykernel)",
   "language": "python",
   "name": "python3"
  },
  "language_info": {
   "codemirror_mode": {
    "name": "ipython",
    "version": 3
   },
   "file_extension": ".py",
   "mimetype": "text/x-python",
   "name": "python",
   "nbconvert_exporter": "python",
   "pygments_lexer": "ipython3",
   "version": "3.10.11"
  }
 },
 "nbformat": 4,
 "nbformat_minor": 5
}
